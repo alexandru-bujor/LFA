{
 "cells": [
  {
   "cell_type": "markdown",
   "id": "73008bc3",
   "metadata": {},
   "source": [
    "# Laboratory 6 - Parser & Building an AST\n",
    "### Main testing file with the visualization process"
   ]
  },
  {
   "metadata": {},
   "cell_type": "markdown",
   "source": "## 1. Parsing into AST",
   "id": "521b06ee836c8653"
  },
  {
   "metadata": {},
   "cell_type": "markdown",
   "source": "### Import Modules",
   "id": "77b3106e23697315"
  },
  {
   "cell_type": "code",
   "id": "88d37ff5a3dafe0c",
   "metadata": {
    "ExecuteTime": {
     "end_time": "2025-05-26T14:10:42.609957Z",
     "start_time": "2025-05-26T14:10:42.597517Z"
    }
   },
   "source": [
    "from lexer import tokenize\n",
    "from parser import parse"
   ],
   "outputs": [],
   "execution_count": 1
  },
  {
   "metadata": {},
   "cell_type": "markdown",
   "source": "### Define a sample DSL Input",
   "id": "3062062fb9bdf2d0"
  },
  {
   "metadata": {
    "ExecuteTime": {
     "end_time": "2025-05-26T14:10:42.639106Z",
     "start_time": "2025-05-26T14:10:42.634735Z"
    }
   },
   "cell_type": "code",
   "source": "sample = 'device router1 interface eth0 ip 192.168.0.1 mac 00ab.cd34.ef56 vlan 10 desc \"Main uplink\"'",
   "id": "754da0322cc0c017",
   "outputs": [],
   "execution_count": 2
  },
  {
   "metadata": {},
   "cell_type": "markdown",
   "source": "### Tokenization",
   "id": "bcabd98f798fbf59"
  },
  {
   "metadata": {
    "ExecuteTime": {
     "end_time": "2025-05-26T14:10:42.760540Z",
     "start_time": "2025-05-26T14:10:42.755455Z"
    }
   },
   "cell_type": "code",
   "source": [
    "print(\"=== Tokens ===\")\n",
    "tokens = tokenize(sample)\n",
    "for tok in tokens:\n",
    "    print(f\"{tok.type.name}: {tok.value}\")"
   ],
   "id": "30bc3d81fe1138d6",
   "outputs": [
    {
     "name": "stdout",
     "output_type": "stream",
     "text": [
      "=== Tokens ===\n",
      "KEYWORD_DEVICE: device\n",
      "ID: router1\n",
      "KEYWORD_INTERFACE: interface\n",
      "ID: eth0\n",
      "ID: ip\n",
      "IPV4_ADDRESS: 192.168.0.1\n",
      "ID: mac\n",
      "MAC_ADDRESS: 00ab.cd34.ef56\n",
      "KEYWORD_VLAN: vlan\n",
      "NUMBER: 10\n",
      "KEYWORD_DESC: desc\n",
      "STRING: \"Main uplink\"\n"
     ]
    }
   ],
   "execution_count": 3
  },
  {
   "metadata": {},
   "cell_type": "markdown",
   "source": "### Parsing into AST",
   "id": "d6a7ccdfea2c750"
  },
  {
   "metadata": {
    "ExecuteTime": {
     "end_time": "2025-05-26T14:10:43.833845Z",
     "start_time": "2025-05-26T14:10:43.827573Z"
    }
   },
   "cell_type": "code",
   "source": [
    "print(\"\\n=== AST ===\")\n",
    "ast = parse(tokens)\n",
    "print(ast)"
   ],
   "id": "16df34047ee2d5d",
   "outputs": [
    {
     "name": "stdout",
     "output_type": "stream",
     "text": [
      "\n",
      "=== AST ===\n",
      "ID: PROGRAM\n",
      "  KEYWORD_DEVICE: router1\n",
      "    KEYWORD_INTERFACE: eth0\n",
      "      ID: ip\n",
      "      IPV4_ADDRESS: 192.168.0.1\n",
      "      ID: mac\n",
      "      MAC_ADDRESS: 00ab.cd34.ef56\n",
      "      KEYWORD_VLAN: 10\n",
      "      KEYWORD_DESC: \"Main uplink\"\n"
     ]
    }
   ],
   "execution_count": 4
  },
  {
   "metadata": {},
   "cell_type": "markdown",
   "source": "## 2. Visualization of the AST using Graphviz",
   "id": "ee3f22970fa5bc0"
  },
  {
   "metadata": {
    "ExecuteTime": {
     "end_time": "2025-05-26T14:10:44.133680Z",
     "start_time": "2025-05-26T14:10:44.051824Z"
    }
   },
   "cell_type": "code",
   "source": [
    "from utils import render_ast\n",
    "from IPython.display import display"
   ],
   "id": "d7cbbe1ed0661ea9",
   "outputs": [],
   "execution_count": 5
  },
  {
   "metadata": {},
   "cell_type": "markdown",
   "source": "### Render the AST to a Graphviz Digraph\n",
   "id": "3fe3dbfab424d95c"
  },
  {
   "metadata": {
    "ExecuteTime": {
     "end_time": "2025-05-26T14:10:44.225474Z",
     "start_time": "2025-05-26T14:10:44.220591Z"
    }
   },
   "cell_type": "code",
   "source": "ast_graph = render_ast(ast)",
   "id": "db1200a82feaae51",
   "outputs": [],
   "execution_count": 6
  },
  {
   "metadata": {},
   "cell_type": "markdown",
   "source": "### Display the graph inline",
   "id": "670af8484ce3a312"
  },
  {
   "metadata": {
    "ExecuteTime": {
     "end_time": "2025-05-26T14:10:45.253463Z",
     "start_time": "2025-05-26T14:10:44.299789Z"
    }
   },
   "cell_type": "code",
   "source": "display(ast_graph)",
   "id": "2d68649e",
   "outputs": [
    {
     "ename": "ExecutableNotFound",
     "evalue": "failed to execute WindowsPath('dot'), make sure the Graphviz executables are on your systems' PATH",
     "output_type": "error",
     "traceback": [
      "\u001B[31m---------------------------------------------------------------------------\u001B[39m",
      "\u001B[31mFileNotFoundError\u001B[39m                         Traceback (most recent call last)",
      "\u001B[36mFile \u001B[39m\u001B[32m~\\PycharmProjects\\LFA\\.venv\\Lib\\site-packages\\graphviz\\backend\\execute.py:76\u001B[39m, in \u001B[36mrun_check\u001B[39m\u001B[34m(cmd, input_lines, encoding, quiet, **kwargs)\u001B[39m\n\u001B[32m     75\u001B[39m         kwargs[\u001B[33m'\u001B[39m\u001B[33mstdout\u001B[39m\u001B[33m'\u001B[39m] = kwargs[\u001B[33m'\u001B[39m\u001B[33mstderr\u001B[39m\u001B[33m'\u001B[39m] = subprocess.PIPE\n\u001B[32m---> \u001B[39m\u001B[32m76\u001B[39m     proc = \u001B[43m_run_input_lines\u001B[49m\u001B[43m(\u001B[49m\u001B[43mcmd\u001B[49m\u001B[43m,\u001B[49m\u001B[43m \u001B[49m\u001B[43minput_lines\u001B[49m\u001B[43m,\u001B[49m\u001B[43m \u001B[49m\u001B[43mkwargs\u001B[49m\u001B[43m=\u001B[49m\u001B[43mkwargs\u001B[49m\u001B[43m)\u001B[49m\n\u001B[32m     77\u001B[39m \u001B[38;5;28;01melse\u001B[39;00m:\n",
      "\u001B[36mFile \u001B[39m\u001B[32m~\\PycharmProjects\\LFA\\.venv\\Lib\\site-packages\\graphviz\\backend\\execute.py:96\u001B[39m, in \u001B[36m_run_input_lines\u001B[39m\u001B[34m(cmd, input_lines, kwargs)\u001B[39m\n\u001B[32m     95\u001B[39m \u001B[38;5;28;01mdef\u001B[39;00m\u001B[38;5;250m \u001B[39m\u001B[34m_run_input_lines\u001B[39m(cmd, input_lines, *, kwargs):\n\u001B[32m---> \u001B[39m\u001B[32m96\u001B[39m     popen = \u001B[43msubprocess\u001B[49m\u001B[43m.\u001B[49m\u001B[43mPopen\u001B[49m\u001B[43m(\u001B[49m\u001B[43mcmd\u001B[49m\u001B[43m,\u001B[49m\u001B[43m \u001B[49m\u001B[43mstdin\u001B[49m\u001B[43m=\u001B[49m\u001B[43msubprocess\u001B[49m\u001B[43m.\u001B[49m\u001B[43mPIPE\u001B[49m\u001B[43m,\u001B[49m\u001B[43m \u001B[49m\u001B[43m*\u001B[49m\u001B[43m*\u001B[49m\u001B[43mkwargs\u001B[49m\u001B[43m)\u001B[49m\n\u001B[32m     98\u001B[39m     stdin_write = popen.stdin.write\n",
      "\u001B[36mFile \u001B[39m\u001B[32m~\\AppData\\Local\\Programs\\Python\\Python313\\Lib\\subprocess.py:1036\u001B[39m, in \u001B[36mPopen.__init__\u001B[39m\u001B[34m(self, args, bufsize, executable, stdin, stdout, stderr, preexec_fn, close_fds, shell, cwd, env, universal_newlines, startupinfo, creationflags, restore_signals, start_new_session, pass_fds, user, group, extra_groups, encoding, errors, text, umask, pipesize, process_group)\u001B[39m\n\u001B[32m   1033\u001B[39m             \u001B[38;5;28mself\u001B[39m.stderr = io.TextIOWrapper(\u001B[38;5;28mself\u001B[39m.stderr,\n\u001B[32m   1034\u001B[39m                     encoding=encoding, errors=errors)\n\u001B[32m-> \u001B[39m\u001B[32m1036\u001B[39m     \u001B[38;5;28;43mself\u001B[39;49m\u001B[43m.\u001B[49m\u001B[43m_execute_child\u001B[49m\u001B[43m(\u001B[49m\u001B[43margs\u001B[49m\u001B[43m,\u001B[49m\u001B[43m \u001B[49m\u001B[43mexecutable\u001B[49m\u001B[43m,\u001B[49m\u001B[43m \u001B[49m\u001B[43mpreexec_fn\u001B[49m\u001B[43m,\u001B[49m\u001B[43m \u001B[49m\u001B[43mclose_fds\u001B[49m\u001B[43m,\u001B[49m\n\u001B[32m   1037\u001B[39m \u001B[43m                        \u001B[49m\u001B[43mpass_fds\u001B[49m\u001B[43m,\u001B[49m\u001B[43m \u001B[49m\u001B[43mcwd\u001B[49m\u001B[43m,\u001B[49m\u001B[43m \u001B[49m\u001B[43menv\u001B[49m\u001B[43m,\u001B[49m\n\u001B[32m   1038\u001B[39m \u001B[43m                        \u001B[49m\u001B[43mstartupinfo\u001B[49m\u001B[43m,\u001B[49m\u001B[43m \u001B[49m\u001B[43mcreationflags\u001B[49m\u001B[43m,\u001B[49m\u001B[43m \u001B[49m\u001B[43mshell\u001B[49m\u001B[43m,\u001B[49m\n\u001B[32m   1039\u001B[39m \u001B[43m                        \u001B[49m\u001B[43mp2cread\u001B[49m\u001B[43m,\u001B[49m\u001B[43m \u001B[49m\u001B[43mp2cwrite\u001B[49m\u001B[43m,\u001B[49m\n\u001B[32m   1040\u001B[39m \u001B[43m                        \u001B[49m\u001B[43mc2pread\u001B[49m\u001B[43m,\u001B[49m\u001B[43m \u001B[49m\u001B[43mc2pwrite\u001B[49m\u001B[43m,\u001B[49m\n\u001B[32m   1041\u001B[39m \u001B[43m                        \u001B[49m\u001B[43merrread\u001B[49m\u001B[43m,\u001B[49m\u001B[43m \u001B[49m\u001B[43merrwrite\u001B[49m\u001B[43m,\u001B[49m\n\u001B[32m   1042\u001B[39m \u001B[43m                        \u001B[49m\u001B[43mrestore_signals\u001B[49m\u001B[43m,\u001B[49m\n\u001B[32m   1043\u001B[39m \u001B[43m                        \u001B[49m\u001B[43mgid\u001B[49m\u001B[43m,\u001B[49m\u001B[43m \u001B[49m\u001B[43mgids\u001B[49m\u001B[43m,\u001B[49m\u001B[43m \u001B[49m\u001B[43muid\u001B[49m\u001B[43m,\u001B[49m\u001B[43m \u001B[49m\u001B[43mumask\u001B[49m\u001B[43m,\u001B[49m\n\u001B[32m   1044\u001B[39m \u001B[43m                        \u001B[49m\u001B[43mstart_new_session\u001B[49m\u001B[43m,\u001B[49m\u001B[43m \u001B[49m\u001B[43mprocess_group\u001B[49m\u001B[43m)\u001B[49m\n\u001B[32m   1045\u001B[39m \u001B[38;5;28;01mexcept\u001B[39;00m:\n\u001B[32m   1046\u001B[39m     \u001B[38;5;66;03m# Cleanup if the child failed starting.\u001B[39;00m\n",
      "\u001B[36mFile \u001B[39m\u001B[32m~\\AppData\\Local\\Programs\\Python\\Python313\\Lib\\subprocess.py:1548\u001B[39m, in \u001B[36mPopen._execute_child\u001B[39m\u001B[34m(self, args, executable, preexec_fn, close_fds, pass_fds, cwd, env, startupinfo, creationflags, shell, p2cread, p2cwrite, c2pread, c2pwrite, errread, errwrite, unused_restore_signals, unused_gid, unused_gids, unused_uid, unused_umask, unused_start_new_session, unused_process_group)\u001B[39m\n\u001B[32m   1547\u001B[39m \u001B[38;5;28;01mtry\u001B[39;00m:\n\u001B[32m-> \u001B[39m\u001B[32m1548\u001B[39m     hp, ht, pid, tid = \u001B[43m_winapi\u001B[49m\u001B[43m.\u001B[49m\u001B[43mCreateProcess\u001B[49m\u001B[43m(\u001B[49m\u001B[43mexecutable\u001B[49m\u001B[43m,\u001B[49m\u001B[43m \u001B[49m\u001B[43margs\u001B[49m\u001B[43m,\u001B[49m\n\u001B[32m   1549\u001B[39m \u001B[43m                             \u001B[49m\u001B[38;5;66;43;03m# no special security\u001B[39;49;00m\n\u001B[32m   1550\u001B[39m \u001B[43m                             \u001B[49m\u001B[38;5;28;43;01mNone\u001B[39;49;00m\u001B[43m,\u001B[49m\u001B[43m \u001B[49m\u001B[38;5;28;43;01mNone\u001B[39;49;00m\u001B[43m,\u001B[49m\n\u001B[32m   1551\u001B[39m \u001B[43m                             \u001B[49m\u001B[38;5;28;43mint\u001B[39;49m\u001B[43m(\u001B[49m\u001B[38;5;129;43;01mnot\u001B[39;49;00m\u001B[43m \u001B[49m\u001B[43mclose_fds\u001B[49m\u001B[43m)\u001B[49m\u001B[43m,\u001B[49m\n\u001B[32m   1552\u001B[39m \u001B[43m                             \u001B[49m\u001B[43mcreationflags\u001B[49m\u001B[43m,\u001B[49m\n\u001B[32m   1553\u001B[39m \u001B[43m                             \u001B[49m\u001B[43menv\u001B[49m\u001B[43m,\u001B[49m\n\u001B[32m   1554\u001B[39m \u001B[43m                             \u001B[49m\u001B[43mcwd\u001B[49m\u001B[43m,\u001B[49m\n\u001B[32m   1555\u001B[39m \u001B[43m                             \u001B[49m\u001B[43mstartupinfo\u001B[49m\u001B[43m)\u001B[49m\n\u001B[32m   1556\u001B[39m \u001B[38;5;28;01mfinally\u001B[39;00m:\n\u001B[32m   1557\u001B[39m     \u001B[38;5;66;03m# Child is launched. Close the parent's copy of those pipe\u001B[39;00m\n\u001B[32m   1558\u001B[39m     \u001B[38;5;66;03m# handles that only the child should have open.  You need\u001B[39;00m\n\u001B[32m   (...)\u001B[39m\u001B[32m   1561\u001B[39m     \u001B[38;5;66;03m# pipe will not close when the child process exits and the\u001B[39;00m\n\u001B[32m   1562\u001B[39m     \u001B[38;5;66;03m# ReadFile will hang.\u001B[39;00m\n",
      "\u001B[31mFileNotFoundError\u001B[39m: [WinError 2] The system cannot find the file specified",
      "\nThe above exception was the direct cause of the following exception:\n",
      "\u001B[31mExecutableNotFound\u001B[39m                        Traceback (most recent call last)",
      "\u001B[36mFile \u001B[39m\u001B[32m~\\PycharmProjects\\LFA\\.venv\\Lib\\site-packages\\IPython\\core\\formatters.py:1036\u001B[39m, in \u001B[36mMimeBundleFormatter.__call__\u001B[39m\u001B[34m(self, obj, include, exclude)\u001B[39m\n\u001B[32m   1033\u001B[39m     method = get_real_method(obj, \u001B[38;5;28mself\u001B[39m.print_method)\n\u001B[32m   1035\u001B[39m     \u001B[38;5;28;01mif\u001B[39;00m method \u001B[38;5;129;01mis\u001B[39;00m \u001B[38;5;129;01mnot\u001B[39;00m \u001B[38;5;28;01mNone\u001B[39;00m:\n\u001B[32m-> \u001B[39m\u001B[32m1036\u001B[39m         \u001B[38;5;28;01mreturn\u001B[39;00m \u001B[43mmethod\u001B[49m\u001B[43m(\u001B[49m\u001B[43minclude\u001B[49m\u001B[43m=\u001B[49m\u001B[43minclude\u001B[49m\u001B[43m,\u001B[49m\u001B[43m \u001B[49m\u001B[43mexclude\u001B[49m\u001B[43m=\u001B[49m\u001B[43mexclude\u001B[49m\u001B[43m)\u001B[49m\n\u001B[32m   1037\u001B[39m     \u001B[38;5;28;01mreturn\u001B[39;00m \u001B[38;5;28;01mNone\u001B[39;00m\n\u001B[32m   1038\u001B[39m \u001B[38;5;28;01melse\u001B[39;00m:\n",
      "\u001B[36mFile \u001B[39m\u001B[32m~\\PycharmProjects\\LFA\\.venv\\Lib\\site-packages\\graphviz\\jupyter_integration.py:98\u001B[39m, in \u001B[36mJupyterIntegration._repr_mimebundle_\u001B[39m\u001B[34m(self, include, exclude, **_)\u001B[39m\n\u001B[32m     96\u001B[39m include = \u001B[38;5;28mset\u001B[39m(include) \u001B[38;5;28;01mif\u001B[39;00m include \u001B[38;5;129;01mis\u001B[39;00m \u001B[38;5;129;01mnot\u001B[39;00m \u001B[38;5;28;01mNone\u001B[39;00m \u001B[38;5;28;01melse\u001B[39;00m {\u001B[38;5;28mself\u001B[39m._jupyter_mimetype}\n\u001B[32m     97\u001B[39m include -= \u001B[38;5;28mset\u001B[39m(exclude \u001B[38;5;129;01mor\u001B[39;00m [])\n\u001B[32m---> \u001B[39m\u001B[32m98\u001B[39m \u001B[38;5;28;01mreturn\u001B[39;00m {mimetype: \u001B[38;5;28;43mgetattr\u001B[39;49m\u001B[43m(\u001B[49m\u001B[38;5;28;43mself\u001B[39;49m\u001B[43m,\u001B[49m\u001B[43m \u001B[49m\u001B[43mmethod_name\u001B[49m\u001B[43m)\u001B[49m\u001B[43m(\u001B[49m\u001B[43m)\u001B[49m\n\u001B[32m     99\u001B[39m         \u001B[38;5;28;01mfor\u001B[39;00m mimetype, method_name \u001B[38;5;129;01min\u001B[39;00m MIME_TYPES.items()\n\u001B[32m    100\u001B[39m         \u001B[38;5;28;01mif\u001B[39;00m mimetype \u001B[38;5;129;01min\u001B[39;00m include}\n",
      "\u001B[36mFile \u001B[39m\u001B[32m~\\PycharmProjects\\LFA\\.venv\\Lib\\site-packages\\graphviz\\jupyter_integration.py:112\u001B[39m, in \u001B[36mJupyterIntegration._repr_image_svg_xml\u001B[39m\u001B[34m(self)\u001B[39m\n\u001B[32m    110\u001B[39m \u001B[38;5;28;01mdef\u001B[39;00m\u001B[38;5;250m \u001B[39m\u001B[34m_repr_image_svg_xml\u001B[39m(\u001B[38;5;28mself\u001B[39m) -> \u001B[38;5;28mstr\u001B[39m:\n\u001B[32m    111\u001B[39m \u001B[38;5;250m    \u001B[39m\u001B[33;03m\"\"\"Return the rendered graph as SVG string.\"\"\"\u001B[39;00m\n\u001B[32m--> \u001B[39m\u001B[32m112\u001B[39m     \u001B[38;5;28;01mreturn\u001B[39;00m \u001B[38;5;28;43mself\u001B[39;49m\u001B[43m.\u001B[49m\u001B[43mpipe\u001B[49m\u001B[43m(\u001B[49m\u001B[38;5;28;43mformat\u001B[39;49m\u001B[43m=\u001B[49m\u001B[33;43m'\u001B[39;49m\u001B[33;43msvg\u001B[39;49m\u001B[33;43m'\u001B[39;49m\u001B[43m,\u001B[49m\u001B[43m \u001B[49m\u001B[43mencoding\u001B[49m\u001B[43m=\u001B[49m\u001B[43mSVG_ENCODING\u001B[49m\u001B[43m)\u001B[49m\n",
      "\u001B[36mFile \u001B[39m\u001B[32m~\\PycharmProjects\\LFA\\.venv\\Lib\\site-packages\\graphviz\\piping.py:104\u001B[39m, in \u001B[36mPipe.pipe\u001B[39m\u001B[34m(self, format, renderer, formatter, neato_no_op, quiet, engine, encoding)\u001B[39m\n\u001B[32m     55\u001B[39m \u001B[38;5;28;01mdef\u001B[39;00m\u001B[38;5;250m \u001B[39m\u001B[34mpipe\u001B[39m(\u001B[38;5;28mself\u001B[39m,\n\u001B[32m     56\u001B[39m          \u001B[38;5;28mformat\u001B[39m: typing.Optional[\u001B[38;5;28mstr\u001B[39m] = \u001B[38;5;28;01mNone\u001B[39;00m,\n\u001B[32m     57\u001B[39m          renderer: typing.Optional[\u001B[38;5;28mstr\u001B[39m] = \u001B[38;5;28;01mNone\u001B[39;00m,\n\u001B[32m   (...)\u001B[39m\u001B[32m     61\u001B[39m          engine: typing.Optional[\u001B[38;5;28mstr\u001B[39m] = \u001B[38;5;28;01mNone\u001B[39;00m,\n\u001B[32m     62\u001B[39m          encoding: typing.Optional[\u001B[38;5;28mstr\u001B[39m] = \u001B[38;5;28;01mNone\u001B[39;00m) -> typing.Union[\u001B[38;5;28mbytes\u001B[39m, \u001B[38;5;28mstr\u001B[39m]:\n\u001B[32m     63\u001B[39m \u001B[38;5;250m    \u001B[39m\u001B[33;03m\"\"\"Return the source piped through the Graphviz layout command.\u001B[39;00m\n\u001B[32m     64\u001B[39m \n\u001B[32m     65\u001B[39m \u001B[33;03m    Args:\u001B[39;00m\n\u001B[32m   (...)\u001B[39m\u001B[32m    102\u001B[39m \u001B[33;03m        '<?xml version='\u001B[39;00m\n\u001B[32m    103\u001B[39m \u001B[33;03m    \"\"\"\u001B[39;00m\n\u001B[32m--> \u001B[39m\u001B[32m104\u001B[39m     \u001B[38;5;28;01mreturn\u001B[39;00m \u001B[38;5;28;43mself\u001B[39;49m\u001B[43m.\u001B[49m\u001B[43m_pipe_legacy\u001B[49m\u001B[43m(\u001B[49m\u001B[38;5;28;43mformat\u001B[39;49m\u001B[43m,\u001B[49m\n\u001B[32m    105\u001B[39m \u001B[43m                             \u001B[49m\u001B[43mrenderer\u001B[49m\u001B[43m=\u001B[49m\u001B[43mrenderer\u001B[49m\u001B[43m,\u001B[49m\n\u001B[32m    106\u001B[39m \u001B[43m                             \u001B[49m\u001B[43mformatter\u001B[49m\u001B[43m=\u001B[49m\u001B[43mformatter\u001B[49m\u001B[43m,\u001B[49m\n\u001B[32m    107\u001B[39m \u001B[43m                             \u001B[49m\u001B[43mneato_no_op\u001B[49m\u001B[43m=\u001B[49m\u001B[43mneato_no_op\u001B[49m\u001B[43m,\u001B[49m\n\u001B[32m    108\u001B[39m \u001B[43m                             \u001B[49m\u001B[43mquiet\u001B[49m\u001B[43m=\u001B[49m\u001B[43mquiet\u001B[49m\u001B[43m,\u001B[49m\n\u001B[32m    109\u001B[39m \u001B[43m                             \u001B[49m\u001B[43mengine\u001B[49m\u001B[43m=\u001B[49m\u001B[43mengine\u001B[49m\u001B[43m,\u001B[49m\n\u001B[32m    110\u001B[39m \u001B[43m                             \u001B[49m\u001B[43mencoding\u001B[49m\u001B[43m=\u001B[49m\u001B[43mencoding\u001B[49m\u001B[43m)\u001B[49m\n",
      "\u001B[36mFile \u001B[39m\u001B[32m~\\PycharmProjects\\LFA\\.venv\\Lib\\site-packages\\graphviz\\_tools.py:171\u001B[39m, in \u001B[36mdeprecate_positional_args.<locals>.decorator.<locals>.wrapper\u001B[39m\u001B[34m(*args, **kwargs)\u001B[39m\n\u001B[32m    162\u001B[39m     wanted = \u001B[33m'\u001B[39m\u001B[33m, \u001B[39m\u001B[33m'\u001B[39m.join(\u001B[33mf\u001B[39m\u001B[33m'\u001B[39m\u001B[38;5;132;01m{\u001B[39;00mname\u001B[38;5;132;01m}\u001B[39;00m\u001B[33m=\u001B[39m\u001B[38;5;132;01m{\u001B[39;00mvalue\u001B[38;5;132;01m!r}\u001B[39;00m\u001B[33m'\u001B[39m\n\u001B[32m    163\u001B[39m                        \u001B[38;5;28;01mfor\u001B[39;00m name, value \u001B[38;5;129;01min\u001B[39;00m deprecated.items())\n\u001B[32m    164\u001B[39m     warnings.warn(\u001B[33mf\u001B[39m\u001B[33m'\u001B[39m\u001B[33mThe signature of \u001B[39m\u001B[38;5;132;01m{\u001B[39;00mfunc.\u001B[34m__name__\u001B[39m\u001B[38;5;132;01m}\u001B[39;00m\u001B[33m will be reduced\u001B[39m\u001B[33m'\u001B[39m\n\u001B[32m    165\u001B[39m                   \u001B[33mf\u001B[39m\u001B[33m'\u001B[39m\u001B[33m to \u001B[39m\u001B[38;5;132;01m{\u001B[39;00msupported_number\u001B[38;5;132;01m}\u001B[39;00m\u001B[33m positional args\u001B[39m\u001B[33m'\u001B[39m\n\u001B[32m    166\u001B[39m                   \u001B[33mf\u001B[39m\u001B[33m'\u001B[39m\u001B[33m \u001B[39m\u001B[38;5;132;01m{\u001B[39;00m\u001B[38;5;28mlist\u001B[39m(supported)\u001B[38;5;132;01m}\u001B[39;00m\u001B[33m: pass \u001B[39m\u001B[38;5;132;01m{\u001B[39;00mwanted\u001B[38;5;132;01m}\u001B[39;00m\u001B[33m'\u001B[39m\n\u001B[32m    167\u001B[39m                   \u001B[33m'\u001B[39m\u001B[33m as keyword arg(s)\u001B[39m\u001B[33m'\u001B[39m,\n\u001B[32m    168\u001B[39m                   stacklevel=stacklevel,\n\u001B[32m    169\u001B[39m                   category=category)\n\u001B[32m--> \u001B[39m\u001B[32m171\u001B[39m \u001B[38;5;28;01mreturn\u001B[39;00m \u001B[43mfunc\u001B[49m\u001B[43m(\u001B[49m\u001B[43m*\u001B[49m\u001B[43margs\u001B[49m\u001B[43m,\u001B[49m\u001B[43m \u001B[49m\u001B[43m*\u001B[49m\u001B[43m*\u001B[49m\u001B[43mkwargs\u001B[49m\u001B[43m)\u001B[49m\n",
      "\u001B[36mFile \u001B[39m\u001B[32m~\\PycharmProjects\\LFA\\.venv\\Lib\\site-packages\\graphviz\\piping.py:121\u001B[39m, in \u001B[36mPipe._pipe_legacy\u001B[39m\u001B[34m(self, format, renderer, formatter, neato_no_op, quiet, engine, encoding)\u001B[39m\n\u001B[32m    112\u001B[39m \u001B[38;5;129m@_tools\u001B[39m.deprecate_positional_args(supported_number=\u001B[32m2\u001B[39m)\n\u001B[32m    113\u001B[39m \u001B[38;5;28;01mdef\u001B[39;00m\u001B[38;5;250m \u001B[39m\u001B[34m_pipe_legacy\u001B[39m(\u001B[38;5;28mself\u001B[39m,\n\u001B[32m    114\u001B[39m                  \u001B[38;5;28mformat\u001B[39m: typing.Optional[\u001B[38;5;28mstr\u001B[39m] = \u001B[38;5;28;01mNone\u001B[39;00m,\n\u001B[32m   (...)\u001B[39m\u001B[32m    119\u001B[39m                  engine: typing.Optional[\u001B[38;5;28mstr\u001B[39m] = \u001B[38;5;28;01mNone\u001B[39;00m,\n\u001B[32m    120\u001B[39m                  encoding: typing.Optional[\u001B[38;5;28mstr\u001B[39m] = \u001B[38;5;28;01mNone\u001B[39;00m) -> typing.Union[\u001B[38;5;28mbytes\u001B[39m, \u001B[38;5;28mstr\u001B[39m]:\n\u001B[32m--> \u001B[39m\u001B[32m121\u001B[39m     \u001B[38;5;28;01mreturn\u001B[39;00m \u001B[38;5;28;43mself\u001B[39;49m\u001B[43m.\u001B[49m\u001B[43m_pipe_future\u001B[49m\u001B[43m(\u001B[49m\u001B[38;5;28;43mformat\u001B[39;49m\u001B[43m,\u001B[49m\n\u001B[32m    122\u001B[39m \u001B[43m                             \u001B[49m\u001B[43mrenderer\u001B[49m\u001B[43m=\u001B[49m\u001B[43mrenderer\u001B[49m\u001B[43m,\u001B[49m\n\u001B[32m    123\u001B[39m \u001B[43m                             \u001B[49m\u001B[43mformatter\u001B[49m\u001B[43m=\u001B[49m\u001B[43mformatter\u001B[49m\u001B[43m,\u001B[49m\n\u001B[32m    124\u001B[39m \u001B[43m                             \u001B[49m\u001B[43mneato_no_op\u001B[49m\u001B[43m=\u001B[49m\u001B[43mneato_no_op\u001B[49m\u001B[43m,\u001B[49m\n\u001B[32m    125\u001B[39m \u001B[43m                             \u001B[49m\u001B[43mquiet\u001B[49m\u001B[43m=\u001B[49m\u001B[43mquiet\u001B[49m\u001B[43m,\u001B[49m\n\u001B[32m    126\u001B[39m \u001B[43m                             \u001B[49m\u001B[43mengine\u001B[49m\u001B[43m=\u001B[49m\u001B[43mengine\u001B[49m\u001B[43m,\u001B[49m\n\u001B[32m    127\u001B[39m \u001B[43m                             \u001B[49m\u001B[43mencoding\u001B[49m\u001B[43m=\u001B[49m\u001B[43mencoding\u001B[49m\u001B[43m)\u001B[49m\n",
      "\u001B[36mFile \u001B[39m\u001B[32m~\\PycharmProjects\\LFA\\.venv\\Lib\\site-packages\\graphviz\\piping.py:149\u001B[39m, in \u001B[36mPipe._pipe_future\u001B[39m\u001B[34m(self, format, renderer, formatter, neato_no_op, quiet, engine, encoding)\u001B[39m\n\u001B[32m    146\u001B[39m \u001B[38;5;28;01mif\u001B[39;00m encoding \u001B[38;5;129;01mis\u001B[39;00m \u001B[38;5;129;01mnot\u001B[39;00m \u001B[38;5;28;01mNone\u001B[39;00m:\n\u001B[32m    147\u001B[39m     \u001B[38;5;28;01mif\u001B[39;00m codecs.lookup(encoding) \u001B[38;5;129;01mis\u001B[39;00m codecs.lookup(\u001B[38;5;28mself\u001B[39m.encoding):\n\u001B[32m    148\u001B[39m         \u001B[38;5;66;03m# common case: both stdin and stdout need the same encoding\u001B[39;00m\n\u001B[32m--> \u001B[39m\u001B[32m149\u001B[39m         \u001B[38;5;28;01mreturn\u001B[39;00m \u001B[38;5;28;43mself\u001B[39;49m\u001B[43m.\u001B[49m\u001B[43m_pipe_lines_string\u001B[49m\u001B[43m(\u001B[49m\u001B[43m*\u001B[49m\u001B[43margs\u001B[49m\u001B[43m,\u001B[49m\u001B[43m \u001B[49m\u001B[43mencoding\u001B[49m\u001B[43m=\u001B[49m\u001B[43mencoding\u001B[49m\u001B[43m,\u001B[49m\u001B[43m \u001B[49m\u001B[43m*\u001B[49m\u001B[43m*\u001B[49m\u001B[43mkwargs\u001B[49m\u001B[43m)\u001B[49m\n\u001B[32m    150\u001B[39m     \u001B[38;5;28;01mtry\u001B[39;00m:\n\u001B[32m    151\u001B[39m         raw = \u001B[38;5;28mself\u001B[39m._pipe_lines(*args, input_encoding=\u001B[38;5;28mself\u001B[39m.encoding, **kwargs)\n",
      "\u001B[36mFile \u001B[39m\u001B[32m~\\PycharmProjects\\LFA\\.venv\\Lib\\site-packages\\graphviz\\backend\\piping.py:212\u001B[39m, in \u001B[36mpipe_lines_string\u001B[39m\u001B[34m(engine, format, input_lines, encoding, renderer, formatter, neato_no_op, quiet)\u001B[39m\n\u001B[32m    206\u001B[39m cmd = dot_command.command(engine, \u001B[38;5;28mformat\u001B[39m,\n\u001B[32m    207\u001B[39m                           renderer=renderer,\n\u001B[32m    208\u001B[39m                           formatter=formatter,\n\u001B[32m    209\u001B[39m                           neato_no_op=neato_no_op)\n\u001B[32m    210\u001B[39m kwargs = {\u001B[33m'\u001B[39m\u001B[33minput_lines\u001B[39m\u001B[33m'\u001B[39m: input_lines, \u001B[33m'\u001B[39m\u001B[33mencoding\u001B[39m\u001B[33m'\u001B[39m: encoding}\n\u001B[32m--> \u001B[39m\u001B[32m212\u001B[39m proc = \u001B[43mexecute\u001B[49m\u001B[43m.\u001B[49m\u001B[43mrun_check\u001B[49m\u001B[43m(\u001B[49m\u001B[43mcmd\u001B[49m\u001B[43m,\u001B[49m\u001B[43m \u001B[49m\u001B[43mcapture_output\u001B[49m\u001B[43m=\u001B[49m\u001B[38;5;28;43;01mTrue\u001B[39;49;00m\u001B[43m,\u001B[49m\u001B[43m \u001B[49m\u001B[43mquiet\u001B[49m\u001B[43m=\u001B[49m\u001B[43mquiet\u001B[49m\u001B[43m,\u001B[49m\u001B[43m \u001B[49m\u001B[43m*\u001B[49m\u001B[43m*\u001B[49m\u001B[43mkwargs\u001B[49m\u001B[43m)\u001B[49m\n\u001B[32m    213\u001B[39m \u001B[38;5;28;01mreturn\u001B[39;00m proc.stdout\n",
      "\u001B[36mFile \u001B[39m\u001B[32m~\\PycharmProjects\\LFA\\.venv\\Lib\\site-packages\\graphviz\\backend\\execute.py:81\u001B[39m, in \u001B[36mrun_check\u001B[39m\u001B[34m(cmd, input_lines, encoding, quiet, **kwargs)\u001B[39m\n\u001B[32m     79\u001B[39m \u001B[38;5;28;01mexcept\u001B[39;00m \u001B[38;5;167;01mOSError\u001B[39;00m \u001B[38;5;28;01mas\u001B[39;00m e:\n\u001B[32m     80\u001B[39m     \u001B[38;5;28;01mif\u001B[39;00m e.errno == errno.ENOENT:\n\u001B[32m---> \u001B[39m\u001B[32m81\u001B[39m         \u001B[38;5;28;01mraise\u001B[39;00m ExecutableNotFound(cmd) \u001B[38;5;28;01mfrom\u001B[39;00m\u001B[38;5;250m \u001B[39m\u001B[34;01me\u001B[39;00m\n\u001B[32m     82\u001B[39m     \u001B[38;5;28;01mraise\u001B[39;00m\n\u001B[32m     84\u001B[39m \u001B[38;5;28;01mif\u001B[39;00m \u001B[38;5;129;01mnot\u001B[39;00m quiet \u001B[38;5;129;01mand\u001B[39;00m proc.stderr:\n",
      "\u001B[31mExecutableNotFound\u001B[39m: failed to execute WindowsPath('dot'), make sure the Graphviz executables are on your systems' PATH"
     ]
    },
    {
     "data": {
      "text/plain": [
       "<graphviz.graphs.Digraph at 0x1ed951b1a90>"
      ]
     },
     "metadata": {},
     "output_type": "display_data"
    }
   ],
   "execution_count": 7
  }
 ],
 "metadata": {},
 "nbformat": 4,
 "nbformat_minor": 5
}
